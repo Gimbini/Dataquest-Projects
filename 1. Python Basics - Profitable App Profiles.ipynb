{
 "cells": [
  {
   "cell_type": "markdown",
   "metadata": {},
   "source": [
    "# Data Analysis: Monetising Free Apps\n",
    "\n",
    "Goal of this project is to analysis data to identify and understand what type of apps are likely to attract more users.\n",
    "\n"
   ]
  },
  {
   "cell_type": "code",
   "execution_count": 2,
   "metadata": {
    "collapsed": false
   },
   "outputs": [],
   "source": [
    "from csv import reader\n",
    "\n",
    "## Apple Store Data Set ##\n",
    "opened_file = open('AppleStore.csv')\n",
    "read_file = reader(opened_file)\n",
    "ios = list(read_file)\n",
    "ios_header = ios[0]\n",
    "ios = ios[1:]\n",
    "\n",
    "## Google Play Data Set ##\n",
    "opened_file = open('googleplaystore.csv')\n",
    "read_file = reader(opened_file)\n",
    "android = list(read_file)\n",
    "android_header = android[0]\n",
    "android = android[1:]\n"
   ]
  },
  {
   "cell_type": "code",
   "execution_count": 3,
   "metadata": {
    "collapsed": false
   },
   "outputs": [
    {
     "name": "stdout",
     "output_type": "stream",
     "text": [
      "Apple Store Sample \n",
      "\n",
      "['id', 'track_name', 'size_bytes', 'currency', 'price', 'rating_count_tot', 'rating_count_ver', 'user_rating', 'user_rating_ver', 'ver', 'cont_rating', 'prime_genre', 'sup_devices.num', 'ipadSc_urls.num', 'lang.num', 'vpp_lic'] \n",
      "\n",
      "['284882215', 'Facebook', '389879808', 'USD', '0.0', '2974676', '212', '3.5', '3.5', '95.0', '4+', 'Social Networking', '37', '1', '29', '1']\n",
      "\n",
      "\n",
      "['389801252', 'Instagram', '113954816', 'USD', '0.0', '2161558', '1289', '4.5', '4.0', '10.23', '12+', 'Photo & Video', '37', '0', '29', '1']\n",
      "\n",
      "\n",
      "['529479190', 'Clash of Clans', '116476928', 'USD', '0.0', '2130805', '579', '4.5', '4.5', '9.24.12', '9+', 'Games', '38', '5', '18', '1']\n",
      "\n",
      "\n",
      "['420009108', 'Temple Run', '65921024', 'USD', '0.0', '1724546', '3842', '4.5', '4.0', '1.6.2', '9+', 'Games', '40', '5', '1', '1']\n",
      "\n",
      "\n",
      "['284035177', 'Pandora - Music & Radio', '130242560', 'USD', '0.0', '1126879', '3594', '4.0', '4.5', '8.4.1', '12+', 'Music', '37', '4', '1', '1']\n",
      "\n",
      "\n",
      "Number of rows: 7197\n",
      "Number of columns: 16\n",
      "\n",
      "\n",
      "Google Play Store Sample \n",
      "\n",
      "['App', 'Category', 'Rating', 'Reviews', 'Size', 'Installs', 'Type', 'Price', 'Content Rating', 'Genres', 'Last Updated', 'Current Ver', 'Android Ver'] \n",
      "\n",
      "['Photo Editor & Candy Camera & Grid & ScrapBook', 'ART_AND_DESIGN', '4.1', '159', '19M', '10,000+', 'Free', '0', 'Everyone', 'Art & Design', 'January 7, 2018', '1.0.0', '4.0.3 and up']\n",
      "\n",
      "\n",
      "['Coloring book moana', 'ART_AND_DESIGN', '3.9', '967', '14M', '500,000+', 'Free', '0', 'Everyone', 'Art & Design;Pretend Play', 'January 15, 2018', '2.0.0', '4.0.3 and up']\n",
      "\n",
      "\n",
      "['U Launcher Lite – FREE Live Cool Themes, Hide Apps', 'ART_AND_DESIGN', '4.7', '87510', '8.7M', '5,000,000+', 'Free', '0', 'Everyone', 'Art & Design', 'August 1, 2018', '1.2.4', '4.0.3 and up']\n",
      "\n",
      "\n",
      "['Sketch - Draw & Paint', 'ART_AND_DESIGN', '4.5', '215644', '25M', '50,000,000+', 'Free', '0', 'Teen', 'Art & Design', 'June 8, 2018', 'Varies with device', '4.2 and up']\n",
      "\n",
      "\n",
      "['Pixel Draw - Number Art Coloring Book', 'ART_AND_DESIGN', '4.3', '967', '2.8M', '100,000+', 'Free', '0', 'Everyone', 'Art & Design;Creativity', 'June 20, 2018', '1.1', '4.4 and up']\n",
      "\n",
      "\n",
      "Number of rows: 10841\n",
      "Number of columns: 13\n"
     ]
    }
   ],
   "source": [
    "def explore_data(dataset, start, end, rows_and_columns=False):\n",
    "    dataset_slice = dataset[start:end]    \n",
    "    for row in dataset_slice:\n",
    "        print(row)\n",
    "        print('\\n') # adds a new (empty) line after each row\n",
    "\n",
    "    if rows_and_columns:\n",
    "        print('Number of rows:', len(dataset))\n",
    "        print('Number of columns:', len(dataset[0]))\n",
    "        \n",
    "print('Apple Store Sample', '\\n')\n",
    "print(ios_header, '\\n')\n",
    "explore_data(ios, 0, 5, rows_and_columns = True)\n",
    "\n",
    "print('\\n')\n",
    "print('Google Play Store Sample', '\\n')\n",
    "print(android_header, '\\n')\n",
    "explore_data(android, 0, 5, rows_and_columns = True)"
   ]
  },
  {
   "cell_type": "markdown",
   "metadata": {},
   "source": [
    "## Data Cleaning"
   ]
  },
  {
   "cell_type": "markdown",
   "metadata": {},
   "source": [
    "Data \\#10472 is missing the entire 'Category' column."
   ]
  },
  {
   "cell_type": "code",
   "execution_count": 4,
   "metadata": {
    "collapsed": false
   },
   "outputs": [
    {
     "name": "stdout",
     "output_type": "stream",
     "text": [
      "['Life Made WI-Fi Touchscreen Photo Frame', '1.9', '19', '3.0M', '1,000+', 'Free', '0', 'Everyone', '', 'February 11, 2018', '1.0.19', '4.0 and up']\n",
      "Data #10472 Deleted\n"
     ]
    }
   ],
   "source": [
    "print(android[10472])\n",
    "del android[10472]\n",
    "\n",
    "print(\"Data #10472 Deleted\")"
   ]
  },
  {
   "cell_type": "markdown",
   "metadata": {},
   "source": [
    "Check for the new data \\#10472 after deletion."
   ]
  },
  {
   "cell_type": "code",
   "execution_count": 5,
   "metadata": {
    "collapsed": false,
    "scrolled": true
   },
   "outputs": [
    {
     "data": {
      "text/plain": [
       "['osmino Wi-Fi: free WiFi',\n",
       " 'TOOLS',\n",
       " '4.2',\n",
       " '134203',\n",
       " '4.1M',\n",
       " '10,000,000+',\n",
       " 'Free',\n",
       " '0',\n",
       " 'Everyone',\n",
       " 'Tools',\n",
       " 'August 7, 2018',\n",
       " '6.06.14',\n",
       " '4.4 and up']"
      ]
     },
     "execution_count": 5,
     "metadata": {},
     "output_type": "execute_result"
    }
   ],
   "source": [
    "android[10472]"
   ]
  },
  {
   "cell_type": "markdown",
   "metadata": {},
   "source": [
    "From the demonstration above, we can see that Google Play data set is not completely error free. Not all errors within the data set are of same type. We can inspect 'duplicate errors' in our data set using one of Python code method below."
   ]
  },
  {
   "cell_type": "code",
   "execution_count": 6,
   "metadata": {
    "collapsed": false
   },
   "outputs": [
    {
     "name": "stdout",
     "output_type": "stream",
     "text": [
      "Number of duplicate apps: 1181\n",
      "Examples of duplicate apps: ['Quick PDF Scanner + OCR FREE', 'Box', 'Google My Business', 'ZOOM Cloud Meetings', 'join.me - Simple Meetings']\n"
     ]
    }
   ],
   "source": [
    "unique_apps = []\n",
    "duplicate_apps = []\n",
    "for app in android:\n",
    "    name = app[0]\n",
    "    if name in unique_apps:\n",
    "        duplicate_apps.append(name)\n",
    "    else:\n",
    "        unique_apps.append(name)\n",
    "\n",
    "print('Number of duplicate apps:', len(duplicate_apps))\n",
    "print('Examples of duplicate apps:', duplicate_apps[:5])"
   ]
  },
  {
   "cell_type": "markdown",
   "metadata": {},
   "source": [
    "Here is another method. This method is useful if you already know the specifics of the errors. We've just identified the names of duplicate apps, and 'Instagram' is in one of them. "
   ]
  },
  {
   "cell_type": "code",
   "execution_count": 7,
   "metadata": {
    "collapsed": false
   },
   "outputs": [
    {
     "name": "stdout",
     "output_type": "stream",
     "text": [
      "['Instagram', 'SOCIAL', '4.5', '66577313', 'Varies with device', '1,000,000,000+', 'Free', '0', 'Teen', 'Social', 'July 31, 2018', 'Varies with device', 'Varies with device']\n",
      "['Instagram', 'SOCIAL', '4.5', '66577446', 'Varies with device', '1,000,000,000+', 'Free', '0', 'Teen', 'Social', 'July 31, 2018', 'Varies with device', 'Varies with device']\n",
      "['Instagram', 'SOCIAL', '4.5', '66577313', 'Varies with device', '1,000,000,000+', 'Free', '0', 'Teen', 'Social', 'July 31, 2018', 'Varies with device', 'Varies with device']\n",
      "['Instagram', 'SOCIAL', '4.5', '66509917', 'Varies with device', '1,000,000,000+', 'Free', '0', 'Teen', 'Social', 'July 31, 2018', 'Varies with device', 'Varies with device']\n"
     ]
    }
   ],
   "source": [
    "for app in android:\n",
    "    if app[0] == 'Instagram':\n",
    "        print(app)"
   ]
  },
  {
   "cell_type": "markdown",
   "metadata": {},
   "source": [
    "The main difference among these data is the difference of values in the 4th column, the number of reviews. This suggests that these data have been collected along diffrent time line. \n",
    "\n",
    "The more recent the data is, more reviews it will have. Hence, we shall leave the data with the most number of reviews. This is much better than picking out a data point randomly. \n",
    "\n",
    "Next, we'll be devising how to get rid of all duplicate entries in our data.\n",
    "\n",
    "First, we'll be creating a dictionary containing **unique** names with the most number of ratings. "
   ]
  },
  {
   "cell_type": "code",
   "execution_count": 8,
   "metadata": {
    "collapsed": false
   },
   "outputs": [
    {
     "name": "stdout",
     "output_type": "stream",
     "text": [
      "9659\n"
     ]
    }
   ],
   "source": [
    "reviews_max = {}\n",
    "## Dictionary to store our unique data set ##\n",
    "\n",
    "for app in android:\n",
    "## Iterate through every data point ##\n",
    "    name = app[0]\n",
    "    n_reviews = float(app[3])\n",
    "    \n",
    "    if name in reviews_max and reviews_max[name] < n_reviews:\n",
    "        reviews_max[name] = n_reviews\n",
    "        ## If an app name is already in dictionary, replace the data \n",
    "        ## ONLY IF the current data has higher number of ratings\n",
    "        \n",
    "    elif name not in reviews_max:\n",
    "        reviews_max[name] = n_reviews\n",
    "        ## If current app name is not in the dictionary, store this data\n",
    "        \n",
    "print(len(reviews_max))"
   ]
  },
  {
   "cell_type": "markdown",
   "metadata": {},
   "source": [
    "Second, now that we have our dictionary containing unique names and number of ratings, we'll iterate through our data set again to match each data to our dictionary. \n",
    "\n",
    "Before that, we'll create 2 empty lists to seperate our unique data from the duplicates, 'clean' and 'already added'. \n",
    "\n",
    "Iteration: If the number of ratings of the data matches the number in our dictionary and the app name is not in the 'already added' list, we'll store the data to our 'clean' list, and then add the app name to the 'already added' list because this app data has just been added to our 'clean' data. \n"
   ]
  },
  {
   "cell_type": "code",
   "execution_count": 9,
   "metadata": {
    "collapsed": false
   },
   "outputs": [],
   "source": [
    "android_clean = []\n",
    "already_added = []\n",
    "\n",
    "for app in android:\n",
    "    name = app[0]\n",
    "    n_reviews = float(app[3])\n",
    "    if n_reviews == reviews_max[name] and name not in already_added:\n",
    "        android_clean.append(app)\n",
    "        already_added.append(name)\n",
    "                "
   ]
  },
  {
   "cell_type": "markdown",
   "metadata": {
    "collapsed": true
   },
   "source": [
    "We've found out before that there are 1181 duplicate data, so our clean data set should have 10840(number of entries in original data) - 1181 = 9659 entries. Lets check"
   ]
  },
  {
   "cell_type": "code",
   "execution_count": 10,
   "metadata": {
    "collapsed": false
   },
   "outputs": [
    {
     "name": "stdout",
     "output_type": "stream",
     "text": [
      "9659\n"
     ]
    }
   ],
   "source": [
    "print(len(android_clean))"
   ]
  },
  {
   "cell_type": "markdown",
   "metadata": {},
   "source": [
    "Hooray!"
   ]
  },
  {
   "cell_type": "markdown",
   "metadata": {},
   "source": [
    "# Removing Non-English Apps"
   ]
  },
  {
   "cell_type": "markdown",
   "metadata": {},
   "source": [
    "Our data sets contain non-english apps that will need to be removed for our analysis because our company is only interested in the english app market.\n",
    "\n",
    "To determine if an app is for english-speaking audience or not, we'll set the standard so that if an app contains any non-english characters it will be classified as for non-english-speaking audience.\n",
    "\n",
    "Strings are iterable using the `for ... in ...` loop, so we can check each charater in the app name to determine whether the name for an app contains foreign charaters by checking their ASCII value. \n",
    "\n",
    "ASCII (American Standard Code for Information Interchange) system gives an assigned number for each language character in the computer system. English alphabets and common symbols/marks have ASCII value equal to or less than 127. In Python, We can check the ASCII value for a character using the `ord(character)` function.\n",
    "\n",
    "Now let's build a function that checks wheter a given string is in english or not."
   ]
  },
  {
   "cell_type": "code",
   "execution_count": 11,
   "metadata": {
    "collapsed": false
   },
   "outputs": [
    {
     "name": "stdout",
     "output_type": "stream",
     "text": [
      "True\n",
      "False\n",
      "False\n",
      "False\n"
     ]
    }
   ],
   "source": [
    "def english_checker(string):\n",
    "    for character in string:\n",
    "        if ord(character) > 127:\n",
    "            return False\n",
    "        \n",
    "    return True\n",
    "\n",
    "print(english_checker('Instagram'))\n",
    "print(english_checker('爱奇艺PPS -《欢乐颂2》电视剧热播'))\n",
    "print(english_checker('Docs To Go™ Free Office Suite'))\n",
    "print(english_checker('Instachat 😜'))"
   ]
  },
  {
   "cell_type": "markdown",
   "metadata": {},
   "source": [
    "It has filterd out the non-english characters just fine! However, it is obvious that the 3rd and 4th app is intended for the english-speaking audience but just contain special characters in their names. We don't want to filter them out from our data set so we'll have to make an adjustment to our function.\n",
    "\n",
    "We'll modify the function so that it only returns `False` if an app name contains 3 or more non-standard and non-english characters."
   ]
  },
  {
   "cell_type": "code",
   "execution_count": 12,
   "metadata": {
    "collapsed": false
   },
   "outputs": [
    {
     "name": "stdout",
     "output_type": "stream",
     "text": [
      "False\n",
      "True\n",
      "True\n"
     ]
    }
   ],
   "source": [
    "def english_checker(string):\n",
    "    count = 0\n",
    "    for character in string:\n",
    "        if ord(character) > 127:\n",
    "            count += 1\n",
    "    if count > 3:\n",
    "        return False\n",
    "    return True\n",
    "\n",
    "print(english_checker('爱奇艺PPS -《欢乐颂2》电视剧热播'))\n",
    "print(english_checker('Docs To Go™ Free Office Suite'))\n",
    "print(english_checker('Instachat 😜'))"
   ]
  },
  {
   "cell_type": "markdown",
   "metadata": {},
   "source": [
    "This is not the perfect way to clean the data set completely but it is good enough for our demo.\n",
    "\n",
    "Let's now use our function and filter out non-english apps in our data sets."
   ]
  },
  {
   "cell_type": "code",
   "execution_count": 13,
   "metadata": {
    "collapsed": false
   },
   "outputs": [
    {
     "name": "stdout",
     "output_type": "stream",
     "text": [
      "9614\n",
      "45\n"
     ]
    }
   ],
   "source": [
    "android_clean_english = []\n",
    "android_non_english = []\n",
    "\n",
    "for app in android_clean:\n",
    "    name = app[0]\n",
    "    english = english_checker(name)\n",
    "    if english == True:\n",
    "        android_clean_english.append(app)\n",
    "    else:\n",
    "        android_non_english.append(app)\n",
    "        \n",
    "print(len(android_clean_english))\n",
    "print(len(android_non_english))\n"
   ]
  },
  {
   "cell_type": "code",
   "execution_count": 14,
   "metadata": {
    "collapsed": false
   },
   "outputs": [
    {
     "name": "stdout",
     "output_type": "stream",
     "text": [
      "6183\n",
      "1014\n"
     ]
    }
   ],
   "source": [
    "ios_english = []\n",
    "ios_non_english = []\n",
    "\n",
    "for app in ios:\n",
    "    name = app[1]\n",
    "    english = english_checker(name)\n",
    "    if english == True:\n",
    "        ios_english.append(app)\n",
    "    else:\n",
    "        ios_non_english.append(app)\n",
    "        \n",
    "print(len(ios_english))\n",
    "print(len(ios_non_english))"
   ]
  },
  {
   "cell_type": "markdown",
   "metadata": {},
   "source": [
    "We've removed 45 apps from Google Play data sets and a whopping 1014 apps from the Apple Store data set."
   ]
  },
  {
   "cell_type": "markdown",
   "metadata": {},
   "source": [
    "# Removing Non-Free apps"
   ]
  },
  {
   "cell_type": "markdown",
   "metadata": {},
   "source": [
    "We've stated in the beginning that our company only develops apps that are free, so we'll have to remove app data that have prices more than 0.\n",
    "\n",
    "We'll create a new empty list that will only contain data for free apps. We'll then iterate through entries in our data set and check their prices. We'll only store the entry to our new list if it's price is '0'. \n",
    "\n",
    "Beware that our entries are in the format of string, hence in our conditionals, we'll have to check if the price equates to **'**0**'**, NOT 0!"
   ]
  },
  {
   "cell_type": "code",
   "execution_count": 15,
   "metadata": {
    "collapsed": false
   },
   "outputs": [
    {
     "name": "stdout",
     "output_type": "stream",
     "text": [
      "8864\n",
      "3222\n"
     ]
    }
   ],
   "source": [
    "android_final = []\n",
    "for app in android_clean_english:\n",
    "    price = app[7]\n",
    "    if price == '0':     #Beware of zero string!!\n",
    "        android_final.append(app)\n",
    "        \n",
    "ios_final = []\n",
    "\n",
    "for app in ios_english:\n",
    "    price = app[4]\n",
    "    if price == '0.0':\n",
    "        ios_final.append(app)\n",
    "        \n",
    "print(len(android_final))\n",
    "print(len(ios_final))\n",
    "        "
   ]
  },
  {
   "cell_type": "markdown",
   "metadata": {},
   "source": [
    "After the isolation, we're left with 8864 entries in the Google Play data set and 3222 entries in the App Store data set."
   ]
  },
  {
   "cell_type": "markdown",
   "metadata": {},
   "source": [
    "## Development Strategy\n",
    "\n",
    "As we mentioned in the introduction, our aim is to determine the kinds of apps that are likely to attract more users because our revenue is highly influenced by the number of people using our apps.\n",
    "\n",
    "To minimize risks and overhead, our validation strategy for an app idea is comprised of three steps:\n",
    "\n",
    "1. Build a minimal Android version of the app, and add it to Google Play.\n",
    "2. If the app has a good response from users, we develop it further. If the app is profitable after six months, we build an iOS version of \n",
    "3. the app and add it to the App Store.\n",
    "\n",
    "\n",
    "Because our end goal is to add the app on both Google Play and the App Store, we need to find app profiles that are successful on both markets. For instance, a profile that works well for both markets might be a productivity app that makes use of gamification."
   ]
  },
  {
   "cell_type": "markdown",
   "metadata": {},
   "source": [
    "# Analysis\n",
    "\n",
    "So which columns of the data sets can we use to make analysis and prediction? It seems appropriate to use 'Genres' and 'category' columns from the Google Play data set, and 'prime_genre' column from the App Store data set because these columns divide data sets into definitive categories.\n",
    "\n",
    "We're now going to create 2 functions. One is to create the frequency table of the data sets as percentage, and the other is to display the table as output.\n",
    "\n",
    "For our frequency table generating function that takes the dataset and the column index as parameters, we'll first create 2 variables; one with an empty dictionary which will eventually store the numbers of counts per category, and the other with an integer value 0 which will eventually serve as a counter for total number of entries in the data set.\n",
    "\n",
    "The function will then iterate through the given data set. For each iteration, the function will increment our total counter by 1, assign the category name to a variable, then either store the given category variable in the dictionary with it's value as 1 if the given category variable has never been entered in the dictionary, or increment the value of the already existing category key in the dictionary by 1; End of iteration 1.\n",
    "\n",
    "Out of our first iteration, we'll create a new variable containing an empty dictionary that will later store the percentage value for each category.\n",
    "\n",
    "We now enter another iteration, but through our first dictionary containing the counts for the categories. For each category key in our count table, the function will calculate and store as a variable it's percentage value by dividing the value by the total counter variable and timesing it by 100. The function then adds each information in the dictionary with the category as key and it's percentage as value.\n",
    "\n",
    "Lastly, the function returns the dictionary containg the percentage values for each category."
   ]
  },
  {
   "cell_type": "code",
   "execution_count": 16,
   "metadata": {
    "collapsed": true
   },
   "outputs": [],
   "source": [
    "def freq_table(dataset, index):\n",
    "    table = {}\n",
    "    total = 0\n",
    "    \n",
    "    for row in dataset:\n",
    "        total += 1\n",
    "        value = row[index]\n",
    "        if value in table:\n",
    "            table[value] += 1\n",
    "        else:\n",
    "            table[value] = 1\n",
    "    \n",
    "    table_percentages = {}\n",
    "    for key in table:\n",
    "        percentage = (table[key] / total) * 100\n",
    "        table_percentages[key] = percentage \n",
    "    \n",
    "    return table_percentages\n",
    "\n"
   ]
  },
  {
   "cell_type": "markdown",
   "metadata": {},
   "source": [
    "The next function that will in final display the contents of the percentage table also takes the dataset and the column index as parameters.\n",
    "\n",
    "Firstly, it will make a function call to our previously defined function and store the returned percentage table dictionary in a varialbe. \n",
    "\n",
    "It will then create an empty list that will eventually contain tuples consisting of firstly the percentage value and secondly the category value i.e. (value, key). The reason for conversion is because we'll be wanting to display the contents of the table in order of their percentage values, not of their alphabetical order. Entries in dictionaries can only be sorted by their key values, but we have the names of our categories as our key value in our dictionary, hence they need to be reversed and be stored in a diffrent set.\n",
    "\n",
    "The function then iterates through the table, creates a tuple in our desired order, then appends the tuple to the previously created list.\n",
    "\n",
    "Exiting the iteration, we now create a new sorted version of our list using the `sorted()` function. We want the order in our list to be from low to high, so we'll have to set the `reverse` argument as `True`.\n",
    "\n",
    "Finally, we iterate through our sorted table and print the contents."
   ]
  },
  {
   "cell_type": "code",
   "execution_count": 17,
   "metadata": {
    "collapsed": true
   },
   "outputs": [],
   "source": [
    "def display_table(dataset, index):\n",
    "    table = freq_table(dataset, index)\n",
    "    table_display = []\n",
    "    for key in table:\n",
    "        key_val_as_tuple = (table[key], key)\n",
    "        table_display.append(key_val_as_tuple)\n",
    "\n",
    "    table_sorted = sorted(table_display, reverse = True)\n",
    "    for entry in table_sorted:\n",
    "        print(entry[1], ':', entry[0])"
   ]
  },
  {
   "cell_type": "markdown",
   "metadata": {},
   "source": [
    "Let's analyse the 'prime_genre' column of the App Store data set."
   ]
  },
  {
   "cell_type": "code",
   "execution_count": 18,
   "metadata": {
    "collapsed": false
   },
   "outputs": [
    {
     "name": "stdout",
     "output_type": "stream",
     "text": [
      "App Store: Percentage Table by prime_genre\n",
      "Games : 58.16263190564867\n",
      "Entertainment : 7.883302296710118\n",
      "Photo & Video : 4.9658597144630665\n",
      "Education : 3.662321539416512\n",
      "Social Networking : 3.2898820608317814\n",
      "Shopping : 2.60707635009311\n",
      "Utilities : 2.5139664804469275\n",
      "Sports : 2.1415270018621975\n",
      "Music : 2.0484171322160147\n",
      "Health & Fitness : 2.0173805090006205\n",
      "Productivity : 1.7380509000620732\n",
      "Lifestyle : 1.5828677839851024\n",
      "News : 1.3345747982619491\n",
      "Travel : 1.2414649286157666\n",
      "Finance : 1.1173184357541899\n",
      "Weather : 0.8690254500310366\n",
      "Food & Drink : 0.8069522036002483\n",
      "Reference : 0.5586592178770949\n",
      "Business : 0.5276225946617008\n",
      "Book : 0.4345127250155183\n",
      "Navigation : 0.186219739292365\n",
      "Medical : 0.186219739292365\n",
      "Catalogs : 0.12414649286157665\n"
     ]
    }
   ],
   "source": [
    "print('App Store: Percentage Table by prime_genre')\n",
    "display_table(ios_final, 11)\n"
   ]
  },
  {
   "cell_type": "markdown",
   "metadata": {},
   "source": [
    "The most common genre of the free English apps among the App Store was Games, consisting about 58% of the total data set which is quite overwhelming considering that the next most common genre, Entertainment, consists about 8% of the total data set.\n",
    "\n",
    "The data suggests that most of the free English apps in the App Store are designed for entertainment purposes rather than practical purposes: Out of the Top 10 genres, 4 genres take the 4th (Education), 6th (Shopping), 7th (Utilities) and 10th (Health & Fitness) position of the ranks and they altogether sums to about 11% of the total data set which is not that much.\n",
    "\n",
    "Although it is obvious that most developers build free English apps for entertainment purposes, especially games, it isn't clear whether it is because these types of apps automatically generate profit for developers. Further investigation is required.\n",
    "\n",
    "Let's now analyse the Google Play Store dataset by their Category."
   ]
  },
  {
   "cell_type": "code",
   "execution_count": 19,
   "metadata": {
    "collapsed": false
   },
   "outputs": [
    {
     "name": "stdout",
     "output_type": "stream",
     "text": [
      "Google Play Store: Percentage Table by Category\n",
      "FAMILY : 18.907942238267147\n",
      "GAME : 9.724729241877256\n",
      "TOOLS : 8.461191335740072\n",
      "BUSINESS : 4.591606498194946\n",
      "LIFESTYLE : 3.9034296028880866\n",
      "PRODUCTIVITY : 3.892148014440433\n",
      "FINANCE : 3.7003610108303246\n",
      "MEDICAL : 3.531137184115524\n",
      "SPORTS : 3.395758122743682\n",
      "PERSONALIZATION : 3.3167870036101084\n",
      "COMMUNICATION : 3.2378158844765346\n",
      "HEALTH_AND_FITNESS : 3.0798736462093865\n",
      "PHOTOGRAPHY : 2.944494584837545\n",
      "NEWS_AND_MAGAZINES : 2.7978339350180503\n",
      "SOCIAL : 2.6624548736462095\n",
      "TRAVEL_AND_LOCAL : 2.33528880866426\n",
      "SHOPPING : 2.2450361010830324\n",
      "BOOKS_AND_REFERENCE : 2.1435018050541514\n",
      "DATING : 1.861462093862816\n",
      "VIDEO_PLAYERS : 1.7937725631768955\n",
      "MAPS_AND_NAVIGATION : 1.3989169675090252\n",
      "FOOD_AND_DRINK : 1.2409747292418771\n",
      "EDUCATION : 1.1620036101083033\n",
      "ENTERTAINMENT : 0.9589350180505415\n",
      "LIBRARIES_AND_DEMO : 0.9363718411552346\n",
      "AUTO_AND_VEHICLES : 0.9250902527075812\n",
      "HOUSE_AND_HOME : 0.8235559566787004\n",
      "WEATHER : 0.8009927797833934\n",
      "EVENTS : 0.7107400722021661\n",
      "PARENTING : 0.6543321299638989\n",
      "ART_AND_DESIGN : 0.6430505415162455\n",
      "COMICS : 0.6204873646209386\n",
      "BEAUTY : 0.5979241877256317\n"
     ]
    }
   ],
   "source": [
    "print('Google Play Store: Percentage Table by Category')\n",
    "display_table(android_final, 1)\n"
   ]
  },
  {
   "cell_type": "markdown",
   "metadata": {},
   "source": [
    "When divided by their cateogry, the ratio of free English apps in the Google Play Store are much more evenly distributed compared to the apps in Apple Store; the 'Family' category had the most number of apps with it's percentage about 19%, 'Game' as the second most with about 10% and 'Tools' as the third most with about 8%.\n",
    "\n",
    "The data suggests that free English apps in the Google Play Store are mostly designed for practical purposes as opposed to the free English apps in the Apple Store."
   ]
  },
  {
   "cell_type": "code",
   "execution_count": 20,
   "metadata": {
    "collapsed": false
   },
   "outputs": [
    {
     "name": "stdout",
     "output_type": "stream",
     "text": [
      "Google Store: Percentage Table by Genre\n",
      "Tools : 8.449909747292418\n",
      "Entertainment : 6.069494584837545\n",
      "Education : 5.347472924187725\n",
      "Business : 4.591606498194946\n",
      "Productivity : 3.892148014440433\n",
      "Lifestyle : 3.892148014440433\n",
      "Finance : 3.7003610108303246\n",
      "Medical : 3.531137184115524\n",
      "Sports : 3.463447653429603\n",
      "Personalization : 3.3167870036101084\n",
      "Communication : 3.2378158844765346\n",
      "Action : 3.1024368231046933\n",
      "Health & Fitness : 3.0798736462093865\n",
      "Photography : 2.944494584837545\n",
      "News & Magazines : 2.7978339350180503\n",
      "Social : 2.6624548736462095\n",
      "Travel & Local : 2.3240072202166067\n",
      "Shopping : 2.2450361010830324\n",
      "Books & Reference : 2.1435018050541514\n",
      "Simulation : 2.0419675090252705\n",
      "Dating : 1.861462093862816\n",
      "Arcade : 1.8501805054151623\n",
      "Video Players & Editors : 1.7712093862815883\n",
      "Casual : 1.7599277978339352\n",
      "Maps & Navigation : 1.3989169675090252\n",
      "Food & Drink : 1.2409747292418771\n",
      "Puzzle : 1.128158844765343\n",
      "Racing : 0.9927797833935018\n",
      "Role Playing : 0.9363718411552346\n",
      "Libraries & Demo : 0.9363718411552346\n",
      "Auto & Vehicles : 0.9250902527075812\n",
      "Strategy : 0.9138086642599278\n",
      "House & Home : 0.8235559566787004\n",
      "Weather : 0.8009927797833934\n",
      "Events : 0.7107400722021661\n",
      "Adventure : 0.6768953068592057\n",
      "Comics : 0.6092057761732852\n",
      "Beauty : 0.5979241877256317\n",
      "Art & Design : 0.5979241877256317\n",
      "Parenting : 0.4963898916967509\n",
      "Card : 0.45126353790613716\n",
      "Casino : 0.42870036101083037\n",
      "Trivia : 0.41741877256317694\n",
      "Educational;Education : 0.39485559566787\n",
      "Board : 0.3835740072202166\n",
      "Educational : 0.3722924187725632\n",
      "Education;Education : 0.33844765342960287\n",
      "Word : 0.2594765342960289\n",
      "Casual;Pretend Play : 0.236913357400722\n",
      "Music : 0.2030685920577617\n",
      "Racing;Action & Adventure : 0.16922382671480143\n",
      "Puzzle;Brain Games : 0.16922382671480143\n",
      "Entertainment;Music & Video : 0.16922382671480143\n",
      "Casual;Brain Games : 0.13537906137184114\n",
      "Casual;Action & Adventure : 0.13537906137184114\n",
      "Arcade;Action & Adventure : 0.12409747292418773\n",
      "Action;Action & Adventure : 0.10153429602888085\n",
      "Educational;Pretend Play : 0.09025270758122744\n",
      "Simulation;Action & Adventure : 0.078971119133574\n",
      "Parenting;Education : 0.078971119133574\n",
      "Entertainment;Brain Games : 0.078971119133574\n",
      "Board;Brain Games : 0.078971119133574\n",
      "Parenting;Music & Video : 0.06768953068592057\n",
      "Educational;Brain Games : 0.06768953068592057\n",
      "Casual;Creativity : 0.06768953068592057\n",
      "Art & Design;Creativity : 0.06768953068592057\n",
      "Education;Pretend Play : 0.056407942238267145\n",
      "Role Playing;Pretend Play : 0.04512635379061372\n",
      "Education;Creativity : 0.04512635379061372\n",
      "Role Playing;Action & Adventure : 0.033844765342960284\n",
      "Puzzle;Action & Adventure : 0.033844765342960284\n",
      "Entertainment;Creativity : 0.033844765342960284\n",
      "Entertainment;Action & Adventure : 0.033844765342960284\n",
      "Educational;Creativity : 0.033844765342960284\n",
      "Educational;Action & Adventure : 0.033844765342960284\n",
      "Education;Music & Video : 0.033844765342960284\n",
      "Education;Brain Games : 0.033844765342960284\n",
      "Education;Action & Adventure : 0.033844765342960284\n",
      "Adventure;Action & Adventure : 0.033844765342960284\n",
      "Video Players & Editors;Music & Video : 0.02256317689530686\n",
      "Sports;Action & Adventure : 0.02256317689530686\n",
      "Simulation;Pretend Play : 0.02256317689530686\n",
      "Puzzle;Creativity : 0.02256317689530686\n",
      "Music;Music & Video : 0.02256317689530686\n",
      "Entertainment;Pretend Play : 0.02256317689530686\n",
      "Casual;Education : 0.02256317689530686\n",
      "Board;Action & Adventure : 0.02256317689530686\n",
      "Video Players & Editors;Creativity : 0.01128158844765343\n",
      "Trivia;Education : 0.01128158844765343\n",
      "Travel & Local;Action & Adventure : 0.01128158844765343\n",
      "Tools;Education : 0.01128158844765343\n",
      "Strategy;Education : 0.01128158844765343\n",
      "Strategy;Creativity : 0.01128158844765343\n",
      "Strategy;Action & Adventure : 0.01128158844765343\n",
      "Simulation;Education : 0.01128158844765343\n",
      "Role Playing;Brain Games : 0.01128158844765343\n",
      "Racing;Pretend Play : 0.01128158844765343\n",
      "Puzzle;Education : 0.01128158844765343\n",
      "Parenting;Brain Games : 0.01128158844765343\n",
      "Music & Audio;Music & Video : 0.01128158844765343\n",
      "Lifestyle;Pretend Play : 0.01128158844765343\n",
      "Lifestyle;Education : 0.01128158844765343\n",
      "Health & Fitness;Education : 0.01128158844765343\n",
      "Health & Fitness;Action & Adventure : 0.01128158844765343\n",
      "Entertainment;Education : 0.01128158844765343\n",
      "Communication;Creativity : 0.01128158844765343\n",
      "Comics;Creativity : 0.01128158844765343\n",
      "Casual;Music & Video : 0.01128158844765343\n",
      "Card;Action & Adventure : 0.01128158844765343\n",
      "Books & Reference;Education : 0.01128158844765343\n",
      "Art & Design;Pretend Play : 0.01128158844765343\n",
      "Art & Design;Action & Adventure : 0.01128158844765343\n",
      "Arcade;Pretend Play : 0.01128158844765343\n",
      "Adventure;Education : 0.01128158844765343\n"
     ]
    }
   ],
   "source": [
    "print('Google Store: Percentage Table by Genre')\n",
    "display_table(android_final, 9)"
   ]
  },
  {
   "cell_type": "markdown",
   "metadata": {},
   "source": [
    "Grouping the Google Play Store data set by their Genre gives similar results when grouped by their category.\n",
    "\n",
    "For the Google Play Store Data, it seems that developers are genereally more interested in building apps for practical purposes rather than for entertainment purposes, however, it isn't clear whether a specific genre or category is distinctly favoured like in the apple store.\n",
    "\n",
    "These frequency tables generated reveal which genre is the most produced among the app developers but not which genre have the most users.\n"
   ]
  },
  {
   "cell_type": "markdown",
   "metadata": {},
   "source": [
    "# Which Genre/Category gets downloaded the most?"
   ]
  },
  {
   "cell_type": "markdown",
   "metadata": {},
   "source": [
    "## Apple Store"
   ]
  },
  {
   "cell_type": "code",
   "execution_count": 21,
   "metadata": {
    "collapsed": false
   },
   "outputs": [
    {
     "name": "stdout",
     "output_type": "stream",
     "text": [
      "{'Business': 0.5276225946617008, 'Social Networking': 3.2898820608317814, 'Book': 0.4345127250155183, 'Finance': 1.1173184357541899, 'Photo & Video': 4.9658597144630665, 'Medical': 0.186219739292365, 'Shopping': 2.60707635009311, 'Food & Drink': 0.8069522036002483, 'Lifestyle': 1.5828677839851024, 'Sports': 2.1415270018621975, 'Health & Fitness': 2.0173805090006205, 'Education': 3.662321539416512, 'Travel': 1.2414649286157666, 'Entertainment': 7.883302296710118, 'Catalogs': 0.12414649286157665, 'Reference': 0.5586592178770949, 'Utilities': 2.5139664804469275, 'News': 1.3345747982619491, 'Productivity': 1.7380509000620732, 'Music': 2.0484171322160147, 'Navigation': 0.186219739292365, 'Games': 58.16263190564867, 'Weather': 0.8690254500310366}\n"
     ]
    }
   ],
   "source": [
    "apple_genre_table = freq_table(ios_final, 11)\n",
    "print(apple_genre_table)"
   ]
  },
  {
   "cell_type": "code",
   "execution_count": 22,
   "metadata": {
    "collapsed": false
   },
   "outputs": [
    {
     "name": "stdout",
     "output_type": "stream",
     "text": [
      "Business: 7491.117647058823\n",
      "Social Networking: 71548.34905660378\n",
      "Book: 39758.5\n",
      "Finance: 31467.944444444445\n",
      "Photo & Video: 28441.54375\n",
      "Medical: 612.0\n",
      "Shopping: 26919.690476190477\n",
      "Food & Drink: 33333.92307692308\n",
      "Lifestyle: 16485.764705882353\n",
      "Sports: 23008.898550724636\n",
      "Health & Fitness: 23298.015384615384\n",
      "Education: 7003.983050847458\n",
      "Travel: 28243.8\n",
      "Entertainment: 14029.830708661417\n",
      "Catalogs: 4004.0\n",
      "Reference: 74942.11111111111\n",
      "Utilities: 18684.456790123455\n",
      "News: 21248.023255813954\n",
      "Productivity: 21028.410714285714\n",
      "Music: 57326.530303030304\n",
      "Navigation: 86090.33333333333\n",
      "Games: 22788.6696905016\n",
      "Weather: 52279.892857142855\n"
     ]
    }
   ],
   "source": [
    "for genre in apple_genre_table:\n",
    "    total = 0\n",
    "    len_genre = 0\n",
    "    for app in ios_final:\n",
    "        genre_app = app[11]\n",
    "        if genre_app == genre:\n",
    "            rating_count = float(app[5])\n",
    "            total += rating_count\n",
    "            len_genre += 1\n",
    "            \n",
    "    average_ratings = total / len_genre\n",
    "    print(str(genre) + ': ' + str(average_ratings))"
   ]
  },
  {
   "cell_type": "code",
   "execution_count": 23,
   "metadata": {
    "collapsed": false,
    "scrolled": true
   },
   "outputs": [
    {
     "name": "stdout",
     "output_type": "stream",
     "text": [
      "2974676\n"
     ]
    }
   ],
   "source": [
    "print(ios_final[0][5])"
   ]
  },
  {
   "cell_type": "markdown",
   "metadata": {},
   "source": [
    "social networking, finance, food & drink, reference seems good"
   ]
  },
  {
   "cell_type": "markdown",
   "metadata": {},
   "source": [
    "## Google Play Store"
   ]
  },
  {
   "cell_type": "code",
   "execution_count": 24,
   "metadata": {
    "collapsed": false
   },
   "outputs": [
    {
     "name": "stdout",
     "output_type": "stream",
     "text": [
      "{'BUSINESS': 4.591606498194946, 'EVENTS': 0.7107400722021661, 'PHOTOGRAPHY': 2.944494584837545, 'LIBRARIES_AND_DEMO': 0.9363718411552346, 'MEDICAL': 3.531137184115524, 'VIDEO_PLAYERS': 1.7937725631768955, 'COMICS': 0.6204873646209386, 'GAME': 9.724729241877256, 'BEAUTY': 0.5979241877256317, 'FINANCE': 3.7003610108303246, 'LIFESTYLE': 3.9034296028880866, 'PRODUCTIVITY': 3.892148014440433, 'SHOPPING': 2.2450361010830324, 'HOUSE_AND_HOME': 0.8235559566787004, 'COMMUNICATION': 3.2378158844765346, 'FAMILY': 18.907942238267147, 'DATING': 1.861462093862816, 'ART_AND_DESIGN': 0.6430505415162455, 'PERSONALIZATION': 3.3167870036101084, 'WEATHER': 0.8009927797833934, 'NEWS_AND_MAGAZINES': 2.7978339350180503, 'FOOD_AND_DRINK': 1.2409747292418771, 'MAPS_AND_NAVIGATION': 1.3989169675090252, 'AUTO_AND_VEHICLES': 0.9250902527075812, 'TRAVEL_AND_LOCAL': 2.33528880866426, 'EDUCATION': 1.1620036101083033, 'TOOLS': 8.461191335740072, 'HEALTH_AND_FITNESS': 3.0798736462093865, 'PARENTING': 0.6543321299638989, 'SPORTS': 3.395758122743682, 'SOCIAL': 2.6624548736462095, 'ENTERTAINMENT': 0.9589350180505415, 'BOOKS_AND_REFERENCE': 2.1435018050541514}\n"
     ]
    }
   ],
   "source": [
    "android_category_table = freq_table(android_final, 1)\n",
    "print(android_category_table)"
   ]
  },
  {
   "cell_type": "code",
   "execution_count": 25,
   "metadata": {
    "collapsed": false
   },
   "outputs": [
    {
     "name": "stdout",
     "output_type": "stream",
     "text": [
      "BUSINESS 1712290.1474201474\n",
      "EVENTS 253542.22222222222\n",
      "PHOTOGRAPHY 17840110.40229885\n",
      "LIBRARIES_AND_DEMO 638503.734939759\n",
      "MEDICAL 120550.61980830671\n",
      "VIDEO_PLAYERS 24727872.452830188\n",
      "COMICS 817657.2727272727\n",
      "GAME 15588015.603248259\n",
      "BEAUTY 513151.88679245283\n",
      "FINANCE 1387692.475609756\n",
      "LIFESTYLE 1437816.2687861272\n",
      "PRODUCTIVITY 16787331.344927534\n",
      "SHOPPING 7036877.311557789\n",
      "HOUSE_AND_HOME 1331540.5616438356\n",
      "COMMUNICATION 38456119.167247385\n",
      "FAMILY 3695641.8198090694\n",
      "DATING 854028.8303030303\n",
      "ART_AND_DESIGN 1986335.0877192982\n",
      "PERSONALIZATION 5201482.6122448975\n",
      "WEATHER 5074486.197183099\n",
      "NEWS_AND_MAGAZINES 9549178.467741935\n",
      "FOOD_AND_DRINK 1924897.7363636363\n",
      "MAPS_AND_NAVIGATION 4056941.7741935486\n",
      "AUTO_AND_VEHICLES 647317.8170731707\n",
      "TRAVEL_AND_LOCAL 13984077.710144928\n",
      "EDUCATION 1833495.145631068\n",
      "TOOLS 10801391.298666667\n",
      "HEALTH_AND_FITNESS 4188821.9853479853\n",
      "PARENTING 542603.6206896552\n",
      "SPORTS 3638640.1428571427\n",
      "SOCIAL 23253652.127118643\n",
      "ENTERTAINMENT 11640705.88235294\n",
      "BOOKS_AND_REFERENCE 8767811.894736841\n"
     ]
    }
   ],
   "source": [
    "for category in android_category_table:\n",
    "    total = 0\n",
    "    len_category = 0\n",
    "    for app in android_final:\n",
    "        category_app = app[1]\n",
    "        if category_app == category:\n",
    "            install = app[5]\n",
    "            install = install.replace(',', '')\n",
    "            install = install.replace('+', '')\n",
    "            install = float(install)\n",
    "            total += install\n",
    "            len_category += 1\n",
    "    average = total / len_category\n",
    "    print(category, average)"
   ]
  },
  {
   "cell_type": "code",
   "execution_count": null,
   "metadata": {
    "collapsed": true
   },
   "outputs": [],
   "source": []
  }
 ],
 "metadata": {
  "kernelspec": {
   "display_name": "Python 3",
   "language": "python",
   "name": "python3"
  },
  "language_info": {
   "codemirror_mode": {
    "name": "ipython",
    "version": 3
   },
   "file_extension": ".py",
   "mimetype": "text/x-python",
   "name": "python",
   "nbconvert_exporter": "python",
   "pygments_lexer": "ipython3",
   "version": "3.4.3"
  }
 },
 "nbformat": 4,
 "nbformat_minor": 2
}
